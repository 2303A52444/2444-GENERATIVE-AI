{
  "nbformat": 4,
  "nbformat_minor": 0,
  "metadata": {
    "colab": {
      "provenance": [],
      "authorship_tag": "ABX9TyOIb6A27eXy+iPfGRmgAthn",
      "include_colab_link": true
    },
    "kernelspec": {
      "name": "python3",
      "display_name": "Python 3"
    },
    "language_info": {
      "name": "python"
    }
  },
  "cells": [
    {
      "cell_type": "markdown",
      "metadata": {
        "id": "view-in-github",
        "colab_type": "text"
      },
      "source": [
        "<a href=\"https://colab.research.google.com/github/2303A52444/2444-GENERATIVE-AI/blob/main/2303A52444(Assignment_1).ipynb\" target=\"_parent\"><img src=\"https://colab.research.google.com/assets/colab-badge.svg\" alt=\"Open In Colab\"/></a>"
      ]
    },
    {
      "cell_type": "code",
      "execution_count": null,
      "metadata": {
        "colab": {
          "base_uri": "https://localhost:8080/"
        },
        "id": "CCPqPOshbnpk",
        "outputId": "fc56716b-b3f8-4c76-c550-27071af29e38"
      },
      "outputs": [
        {
          "output_type": "stream",
          "name": "stdout",
          "text": [
            "Mean_Square_error:\n",
            "0.24600000000000147\n"
          ]
        }
      ],
      "source": [
        "import numpy as np\n",
        "Y= np.array([20, 30, 40, 50, 60])\n",
        "Yp= np.array([20.5, 30.3, 40.2, 50.6, 60.7])\n",
        "MSE=np.mean((Y-Yp)**2)\n",
        "print(\"Mean_Square_error:\")\n",
        "print(MSE)"
      ]
    },
    {
      "cell_type": "code",
      "source": [
        "MAE=np.mean(abs(Y-Yp))\n",
        "print(\"Mean_Absolute_error:\")\n",
        "print(MAE)"
      ],
      "metadata": {
        "colab": {
          "base_uri": "https://localhost:8080/"
        },
        "id": "ZGFd-ckebx10",
        "outputId": "2b4d35fd-5019-427a-c059-676a57d9c93f"
      },
      "execution_count": null,
      "outputs": [
        {
          "output_type": "stream",
          "name": "stdout",
          "text": [
            "Mean_Absolute_error:\n",
            "0.4600000000000016\n"
          ]
        }
      ]
    },
    {
      "cell_type": "code",
      "source": [
        "RMSE=np.sqrt(np.mean((Y-Yp)**2))\n",
        "print(\"Root_Mean_Square_error:\")\n",
        "print(RMSE)"
      ],
      "metadata": {
        "colab": {
          "base_uri": "https://localhost:8080/"
        },
        "id": "KU-jo3qJb15l",
        "outputId": "e273872a-7f67-4006-8737-eb06cbd1e0db"
      },
      "execution_count": null,
      "outputs": [
        {
          "output_type": "stream",
          "name": "stdout",
          "text": [
            "Root_Mean_Square_error:\n",
            "0.49598387070549127\n"
          ]
        }
      ]
    },
    {
      "cell_type": "code",
      "source": [
        "from sklearn import metrics\n",
        "print(\"Mean_Square_error:\")\n",
        "print(metrics.mean_squared_error(Y,Yp))"
      ],
      "metadata": {
        "colab": {
          "base_uri": "https://localhost:8080/"
        },
        "id": "dIxV8GwocAJN",
        "outputId": "504bf323-f58c-4798-eef3-deff2b6ce256"
      },
      "execution_count": null,
      "outputs": [
        {
          "output_type": "stream",
          "name": "stdout",
          "text": [
            "Mean_Square_error:\n",
            "0.24600000000000147\n"
          ]
        }
      ]
    },
    {
      "cell_type": "code",
      "source": [
        "from sklearn import metrics\n",
        "print(\"Mean_Absolute_error:\")\n",
        "print(metrics.mean_absolute_error(Y,Yp))"
      ],
      "metadata": {
        "colab": {
          "base_uri": "https://localhost:8080/"
        },
        "id": "flzCYCvQcIIx",
        "outputId": "5bbdfaf3-38a8-4b1e-eb64-50c91c9c77d1"
      },
      "execution_count": null,
      "outputs": [
        {
          "output_type": "stream",
          "name": "stdout",
          "text": [
            "Mean_Absolute_error:\n",
            "0.4600000000000016\n"
          ]
        }
      ]
    },
    {
      "cell_type": "code",
      "source": [
        "from sklearn import metrics\n",
        "print(\"Root_Mean_Square_error:\")\n",
        "print(np.sqrt(metrics.mean_squared_error(Y,Yp)))"
      ],
      "metadata": {
        "colab": {
          "base_uri": "https://localhost:8080/"
        },
        "id": "qJZlCSkrcOHp",
        "outputId": "29970abe-8904-4ba4-9c5d-56769a9ce68f"
      },
      "execution_count": null,
      "outputs": [
        {
          "output_type": "stream",
          "name": "stdout",
          "text": [
            "Root_Mean_Square_error:\n",
            "0.49598387070549127\n"
          ]
        }
      ]
    }
  ]
}